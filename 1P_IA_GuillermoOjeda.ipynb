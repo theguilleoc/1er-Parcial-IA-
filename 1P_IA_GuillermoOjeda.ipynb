{
 "cells": [
  {
   "cell_type": "code",
   "execution_count": 1,
   "metadata": {},
   "outputs": [],
   "source": [
    "#Importamos datos\n",
    "import pandas as pd\n",
    "import numpy as np\n",
    "from sklearn.model_selection import train_test_split, GridSearchCV\n",
    "from sklearn.preprocessing import StandardScaler\n",
    "from sklearn.linear_model import Ridge\n",
    "from sklearn.metrics import mean_squared_error\n"
   ]
  },
  {
   "cell_type": "code",
   "execution_count": 10,
   "metadata": {},
   "outputs": [
    {
     "data": {
      "text/html": [
       "<div>\n",
       "<style scoped>\n",
       "    .dataframe tbody tr th:only-of-type {\n",
       "        vertical-align: middle;\n",
       "    }\n",
       "\n",
       "    .dataframe tbody tr th {\n",
       "        vertical-align: top;\n",
       "    }\n",
       "\n",
       "    .dataframe thead th {\n",
       "        text-align: right;\n",
       "    }\n",
       "</style>\n",
       "<table border=\"1\" class=\"dataframe\">\n",
       "  <thead>\n",
       "    <tr style=\"text-align: right;\">\n",
       "      <th></th>\n",
       "      <th>Unnamed: 0</th>\n",
       "      <th>Temperatura</th>\n",
       "      <th>Humedad</th>\n",
       "    </tr>\n",
       "    <tr>\n",
       "      <th>Fecha</th>\n",
       "      <th></th>\n",
       "      <th></th>\n",
       "      <th></th>\n",
       "    </tr>\n",
       "  </thead>\n",
       "  <tbody>\n",
       "    <tr>\n",
       "      <th>2020-08-27 15:00:00</th>\n",
       "      <td>34053</td>\n",
       "      <td>33.100352</td>\n",
       "      <td>35.153947</td>\n",
       "    </tr>\n",
       "    <tr>\n",
       "      <th>2020-07-11 15:00:00</th>\n",
       "      <td>33677</td>\n",
       "      <td>26.996481</td>\n",
       "      <td>56.922464</td>\n",
       "    </tr>\n",
       "    <tr>\n",
       "      <th>2021-06-27 21:00:00</th>\n",
       "      <td>36487</td>\n",
       "      <td>8.327833</td>\n",
       "      <td>72.630094</td>\n",
       "    </tr>\n",
       "    <tr>\n",
       "      <th>2021-12-27 18:00:00</th>\n",
       "      <td>37950</td>\n",
       "      <td>39.333956</td>\n",
       "      <td>11.362540</td>\n",
       "    </tr>\n",
       "    <tr>\n",
       "      <th>2021-11-24 03:00:00</th>\n",
       "      <td>37681</td>\n",
       "      <td>25.029027</td>\n",
       "      <td>68.343931</td>\n",
       "    </tr>\n",
       "  </tbody>\n",
       "</table>\n",
       "</div>"
      ],
      "text/plain": [
       "                     Unnamed: 0  Temperatura    Humedad\n",
       "Fecha                                                  \n",
       "2020-08-27 15:00:00       34053    33.100352  35.153947\n",
       "2020-07-11 15:00:00       33677    26.996481  56.922464\n",
       "2021-06-27 21:00:00       36487     8.327833  72.630094\n",
       "2021-12-27 18:00:00       37950    39.333956  11.362540\n",
       "2021-11-24 03:00:00       37681    25.029027  68.343931"
      ]
     },
     "execution_count": 10,
     "metadata": {},
     "output_type": "execute_result"
    }
   ],
   "source": [
    "# Cargar el dataset\n",
    "data = pd.read_csv(\"Temp_Asu20092021.csv\")\n",
    "\n",
    "# Convertir la columna 'Fecha' a tipo datetime\n",
    "data['Fecha'] = pd.to_datetime(data['Fecha'])\n",
    "\n",
    "# Establecer la columna 'Fecha' como índice\n",
    "data.set_index('Fecha', inplace=True)\n",
    "\n",
    "# Filtrar datos desde 2019 en adelante\n",
    "data = data[data.index.year >= 2019]\n",
    "\n",
    "# Eliminar filas con valores faltantes\n",
    "data.dropna(inplace=True)\n",
    "\n",
    "#Chequeamos los datos\n",
    "data.sample(5)\n"
   ]
  },
  {
   "cell_type": "code",
   "execution_count": 7,
   "metadata": {},
   "outputs": [
    {
     "data": {
      "text/plain": [
       "Fecha\n",
       "2019-01-01    37.610636\n",
       "2019-01-02    38.163652\n",
       "2019-01-03    37.351168\n",
       "2019-01-04    34.843885\n",
       "2019-01-05    36.485754\n",
       "Freq: D, Name: Temperatura, dtype: float64"
      ]
     },
     "execution_count": 7,
     "metadata": {},
     "output_type": "execute_result"
    }
   ],
   "source": [
    "# Resamplear el conjunto de datos a intervalos diarios y calcular la temperatura máxima diaria\n",
    "daily_max_temperatures = data['Temperatura'].resample('D').max()\n",
    "\n",
    "salida= daily_max_temperatures .shift(-1)\n",
    "salida.head()"
   ]
  },
  {
   "cell_type": "code",
   "execution_count": 3,
   "metadata": {},
   "outputs": [
    {
     "name": "stdout",
     "output_type": "stream",
     "text": [
      "Fitting 3 folds for each of 5 candidates, totalling 15 fits\n",
      "Mejores hiperparámetros:\n",
      "{'alpha': 0.01}\n",
      "Mean Squared Error en validación: 16.750342447107773\n",
      "4.0927182222952725\n"
     ]
    }
   ],
   "source": [
    "\n",
    "# Definir características (features) y variable objetivo (target)\n",
    "X = daily_max_temperatures.values[:-1]  # Puedes agregar más características según sea necesario\n",
    "y = salida.values[:-1]\n",
    "\n",
    "# Normalizar las características\n",
    "scaler = StandardScaler()\n",
    "X_scaled = scaler.fit_transform(X.reshape(-1,1))\n",
    "\n",
    "# Dividir los datos en conjuntos de entrenamiento y validación\n",
    "train_indices = (daily_max_temperatures.index.year <= 2020)[:-1]\n",
    "val_indices = (daily_max_temperatures.index.year == 2021)[:-1]\n",
    "\n",
    "X_train, X_val = X_scaled[train_indices], X_scaled[val_indices]\n",
    "y_train, y_val = y[train_indices], y[val_indices]\n",
    "\n",
    "\n",
    "# Definir el modelo de regresión Ridge\n",
    "ridge = Ridge()\n",
    "\n",
    "# Definir la cuadrícula de parámetros para GridSearch\n",
    "param_grid = {\n",
    "    'alpha': [0.01, 0.1, 1.0, 10.0, 100.0]  # Regularización L2\n",
    "}\n",
    "\n",
    "# Usar GridSearchCV para buscar los mejores hiperparámetros\n",
    "grid_search = GridSearchCV(estimator=ridge, param_grid=param_grid, cv=3, scoring='neg_mean_squared_error', verbose=1, n_jobs=-1)\n",
    "grid_search.fit(X_train, y_train)\n",
    "\n",
    "# Imprimir los mejores hiperparámetros encontrados\n",
    "print(\"Mejores hiperparámetros:\")\n",
    "print(grid_search.best_params_)\n",
    "\n",
    "# Evaluar el modelo con los mejores hiperparámetros en el conjunto de validación\n",
    "best_model = grid_search.best_estimator_\n",
    "y_pred = best_model.predict(X_val)\n",
    "mse = mean_squared_error(y_val, y_pred)\n",
    "print(f\"Mean Squared Error en validación: {mse}\")\n",
    "print(np.sqrt(mse))"
   ]
  }
 ],
 "metadata": {
  "kernelspec": {
   "display_name": "Python 3",
   "language": "python",
   "name": "python3"
  },
  "language_info": {
   "codemirror_mode": {
    "name": "ipython",
    "version": 3
   },
   "file_extension": ".py",
   "mimetype": "text/x-python",
   "name": "python",
   "nbconvert_exporter": "python",
   "pygments_lexer": "ipython3",
   "version": "3.12.4"
  }
 },
 "nbformat": 4,
 "nbformat_minor": 2
}
